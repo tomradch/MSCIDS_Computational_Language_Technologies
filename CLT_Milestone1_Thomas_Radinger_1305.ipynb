{
  "cells": [
    {
      "cell_type": "markdown",
      "metadata": {
        "id": "view-in-github",
        "colab_type": "text"
      },
      "source": [
        "<a href=\"https://colab.research.google.com/github/tomradch/MSCIDS_Computational_Language_Technologies/blob/main/CLT_Milestone1_Thomas_Radinger_1305.ipynb\" target=\"_parent\"><img src=\"https://colab.research.google.com/assets/colab-badge.svg\" alt=\"Open In Colab\"/></a>"
      ]
    },
    {
      "cell_type": "markdown",
      "metadata": {
        "id": "GVvd2yF4dzih"
      },
      "source": [
        "# SwissText Challenge: Detecting greenwashing signals through a comparison of ESG reports and public media\n",
        "## HSLU CLT Project Milestone 1, Submission by Thomas Radinger"
      ]
    },
    {
      "cell_type": "markdown",
      "metadata": {
        "id": "9gJy88wxdziy"
      },
      "source": [
        "In recent years, there has been growing concern about the environmental impact of companies across various industries. As consumers become more environmentally conscious, companies are increasingly under pressure to demonstrate their commitment to sustainability. However, some companies may engage in \"greenwashing\" - the practice of making false or exaggerated claims about the environmental benefits of their products or services.\n",
        "\n",
        "To analyze the extent of this issue, we will be working on a Natural Language Processing (NLP) project to analyze corporate sustainability reports and identify potential cases of greenwashing. Our dataset ('corpus') is provided by [SwissText](https://www.swisstext.org/shared-task-1-detecting-greenwashing-signals-through-a-comparison-of-esg-reports-and-public-media/), the Swiss Text Analytics Conference 2023. It contains 11 188 documents related to the Environmental, Social, and Governance (ESG) frameworks of companies listed on the German stockmarket (DAX). These documents stem both from companies themselves and from third parties.\n",
        "\n",
        "The project involves various steps, including data cleaning and preprocessing, exploratory data analysis, and machine learning to develop a classification model that can detect greenwashing. This is the first in a series of notebooks, in which we carry out the preprocessing and cleaning and exploratory data analysis. The project is carried out as part of the Computational Language Technologies (CLT) module for the MSc in Applied Information and Data Science (IDS) at Lucerne University of Applied Sciences and Arts (HSLU) in spring 2023, taught by Dr. Diego Antognini and Dr. Guang Lu. \n",
        "\n",
        "Besides the course materials, the work draws on resources such as Practical Natural Language Processing by Sowmya Vajjala et al (https://www.practicalnlp.ai/) and A Beginner’s Guide to Exploratory Data Analysis (EDA) on Text Data (https://www.analyticsvidhya.com/blog/2020/04/beginners-guide-exploratory-data-analysis-text-data/).\n",
        "\n",
        "A GitHub repository was also set up, accessible at: https://github.com/tomradch/MSCIDS_Computational_Language_Technologies\n",
        "\n",
        "EDITS 13/05: for work on the second milestone, some changes were made to this notebook to facilitate analysis at the sentence level and to store the pre-processed dataframe for import in a separate notebook."
      ]
    },
    {
      "cell_type": "markdown",
      "metadata": {
        "id": "8N2wZwkfdzi0"
      },
      "source": [
        "## Part 1. Data preprocessing and cleaning"
      ]
    },
    {
      "cell_type": "markdown",
      "metadata": {
        "id": "4067hsnAdzi1"
      },
      "source": [
        "### Basic data pre-processing\n",
        "We first start by importing the necessary libraries and reading in our dataset. Some preliminary steps are also required to work with Google colab."
      ]
    },
    {
      "cell_type": "code",
      "execution_count": null,
      "metadata": {
        "colab": {
          "base_uri": "https://localhost:8080/"
        },
        "id": "8yflPIkad9WG",
        "outputId": "a40a9d3a-3db5-438f-be2d-a7f5157a91ea"
      },
      "outputs": [
        {
          "output_type": "stream",
          "name": "stdout",
          "text": [
            "Looking in indexes: https://pypi.org/simple, https://us-python.pkg.dev/colab-wheels/public/simple/\n",
            "Requirement already satisfied: contractions in /usr/local/lib/python3.10/dist-packages (0.1.73)\n",
            "Requirement already satisfied: textsearch>=0.0.21 in /usr/local/lib/python3.10/dist-packages (from contractions) (0.0.24)\n",
            "Requirement already satisfied: anyascii in /usr/local/lib/python3.10/dist-packages (from textsearch>=0.0.21->contractions) (0.3.2)\n",
            "Requirement already satisfied: pyahocorasick in /usr/local/lib/python3.10/dist-packages (from textsearch>=0.0.21->contractions) (2.0.0)\n",
            "Looking in indexes: https://pypi.org/simple, https://us-python.pkg.dev/colab-wheels/public/simple/\n",
            "Requirement already satisfied: langdetect in /usr/local/lib/python3.10/dist-packages (1.0.9)\n",
            "Requirement already satisfied: six in /usr/local/lib/python3.10/dist-packages (from langdetect) (1.16.0)\n"
          ]
        }
      ],
      "source": [
        "# we install some libraries in the colab environment\n",
        "!pip install contractions\n",
        "!pip install langdetect"
      ]
    },
    {
      "cell_type": "code",
      "execution_count": null,
      "metadata": {
        "colab": {
          "base_uri": "https://localhost:8080/"
        },
        "id": "XCAGNmh7eahr",
        "outputId": "de54473a-567f-4498-e64f-2f21563666df"
      },
      "outputs": [
        {
          "output_type": "stream",
          "name": "stdout",
          "text": [
            "Drive already mounted at /content/drive; to attempt to forcibly remount, call drive.mount(\"/content/drive\", force_remount=True).\n"
          ]
        }
      ],
      "source": [
        "# we connect to googledrive to get our data\n",
        "from google.colab import drive\n",
        "drive.mount('/content/drive')"
      ]
    },
    {
      "cell_type": "code",
      "execution_count": null,
      "metadata": {
        "id": "YWM3dq7ydzi2"
      },
      "outputs": [],
      "source": [
        "# We load the necessary packages\n",
        "import re\n",
        "import unicodedata\n",
        "from collections import Counter\n",
        "\n",
        "import contractions\n",
        "import gensim\n",
        "import matplotlib.pyplot as plt\n",
        "import nltk\n",
        "import numpy as np\n",
        "import pandas as pd\n",
        "from gensim.models import Word2Vec\n",
        "from langdetect import detect\n",
        "from nltk.corpus import stopwords\n",
        "from nltk.sentiment import SentimentIntensityAnalyzer\n",
        "from nltk.stem import PorterStemmer, WordNetLemmatizer\n",
        "from nltk.tokenize import sent_tokenize, word_tokenize\n",
        "from sklearn.decomposition import LatentDirichletAllocation\n",
        "from sklearn.feature_extraction.text import TfidfVectorizer\n",
        "from sklearn.manifold import TSNE\n",
        "from sklearn.preprocessing import MultiLabelBinarizer\n",
        "import seaborn as sns\n",
        "from textblob import TextBlob"
      ]
    },
    {
      "cell_type": "code",
      "execution_count": null,
      "metadata": {
        "colab": {
          "base_uri": "https://localhost:8080/"
        },
        "id": "Ebdb5IOwdzi4",
        "outputId": "c729738d-138f-4055-c614-b67e6d772bd5"
      },
      "outputs": [
        {
          "output_type": "stream",
          "name": "stderr",
          "text": [
            "[nltk_data] Downloading package punkt to /root/nltk_data...\n",
            "[nltk_data]   Package punkt is already up-to-date!\n",
            "[nltk_data] Downloading package stopwords to /root/nltk_data...\n",
            "[nltk_data]   Package stopwords is already up-to-date!\n",
            "[nltk_data] Downloading package wordnet to /root/nltk_data...\n",
            "[nltk_data]   Package wordnet is already up-to-date!\n",
            "[nltk_data] Downloading package vader_lexicon to /root/nltk_data...\n",
            "[nltk_data]   Package vader_lexicon is already up-to-date!\n"
          ]
        },
        {
          "output_type": "execute_result",
          "data": {
            "text/plain": [
              "True"
            ]
          },
          "metadata": {},
          "execution_count": 52
        }
      ],
      "source": [
        "# We download necessary NLTK data for our work with text corpus later on\n",
        "nltk.download('punkt')\n",
        "nltk.download('stopwords')\n",
        "nltk.download('wordnet')\n",
        "nltk.download('vader_lexicon')"
      ]
    },
    {
      "cell_type": "markdown",
      "metadata": {
        "id": "nZ0dVqfidzi6"
      },
      "source": [
        "Taking a look at the first couple of observations in our dataset, we see that we have information on company, the actual content of the document, the type of the document, publication, topics related to each document, etc."
      ]
    },
    {
      "cell_type": "code",
      "execution_count": null,
      "metadata": {
        "colab": {
          "base_uri": "https://localhost:8080/",
          "height": 345
        },
        "id": "k3OPPDOCdzi6",
        "outputId": "41a757dc-9202-4db6-b975-7143dc593fa1"
      },
      "outputs": [
        {
          "output_type": "error",
          "ename": "KeyboardInterrupt",
          "evalue": "ignored",
          "traceback": [
            "\u001b[0;31m---------------------------------------------------------------------------\u001b[0m",
            "\u001b[0;31mKeyboardInterrupt\u001b[0m                         Traceback (most recent call last)",
            "\u001b[0;32m<ipython-input-53-2ed870ab4f4f>\u001b[0m in \u001b[0;36m<cell line: 2>\u001b[0;34m()\u001b[0m\n\u001b[1;32m      1\u001b[0m \u001b[0;31m# We load data into a dataframe and view the first rows of our dataset\u001b[0m\u001b[0;34m\u001b[0m\u001b[0;34m\u001b[0m\u001b[0m\n\u001b[0;32m----> 2\u001b[0;31m \u001b[0mdf\u001b[0m \u001b[0;34m=\u001b[0m \u001b[0mpd\u001b[0m\u001b[0;34m.\u001b[0m\u001b[0mread_csv\u001b[0m\u001b[0;34m(\u001b[0m\u001b[0;34m'/content/drive/MyDrive/esg_documents_for_dax_companies.csv'\u001b[0m\u001b[0;34m,\u001b[0m \u001b[0mdelimiter\u001b[0m \u001b[0;34m=\u001b[0m \u001b[0;34m'|'\u001b[0m\u001b[0;34m,\u001b[0m \u001b[0mindex_col\u001b[0m \u001b[0;34m=\u001b[0m \u001b[0;36m0\u001b[0m\u001b[0;34m)\u001b[0m\u001b[0;34m\u001b[0m\u001b[0;34m\u001b[0m\u001b[0m\n\u001b[0m\u001b[1;32m      3\u001b[0m \u001b[0mdf\u001b[0m\u001b[0;34m.\u001b[0m\u001b[0mhead\u001b[0m\u001b[0;34m(\u001b[0m\u001b[0;34m)\u001b[0m\u001b[0;34m\u001b[0m\u001b[0;34m\u001b[0m\u001b[0m\n",
            "\u001b[0;32m/usr/local/lib/python3.10/dist-packages/pandas/util/_decorators.py\u001b[0m in \u001b[0;36mwrapper\u001b[0;34m(*args, **kwargs)\u001b[0m\n\u001b[1;32m    209\u001b[0m                 \u001b[0;32melse\u001b[0m\u001b[0;34m:\u001b[0m\u001b[0;34m\u001b[0m\u001b[0;34m\u001b[0m\u001b[0m\n\u001b[1;32m    210\u001b[0m                     \u001b[0mkwargs\u001b[0m\u001b[0;34m[\u001b[0m\u001b[0mnew_arg_name\u001b[0m\u001b[0;34m]\u001b[0m \u001b[0;34m=\u001b[0m \u001b[0mnew_arg_value\u001b[0m\u001b[0;34m\u001b[0m\u001b[0;34m\u001b[0m\u001b[0m\n\u001b[0;32m--> 211\u001b[0;31m             \u001b[0;32mreturn\u001b[0m \u001b[0mfunc\u001b[0m\u001b[0;34m(\u001b[0m\u001b[0;34m*\u001b[0m\u001b[0margs\u001b[0m\u001b[0;34m,\u001b[0m \u001b[0;34m**\u001b[0m\u001b[0mkwargs\u001b[0m\u001b[0;34m)\u001b[0m\u001b[0;34m\u001b[0m\u001b[0;34m\u001b[0m\u001b[0m\n\u001b[0m\u001b[1;32m    212\u001b[0m \u001b[0;34m\u001b[0m\u001b[0m\n\u001b[1;32m    213\u001b[0m         \u001b[0;32mreturn\u001b[0m \u001b[0mcast\u001b[0m\u001b[0;34m(\u001b[0m\u001b[0mF\u001b[0m\u001b[0;34m,\u001b[0m \u001b[0mwrapper\u001b[0m\u001b[0;34m)\u001b[0m\u001b[0;34m\u001b[0m\u001b[0;34m\u001b[0m\u001b[0m\n",
            "\u001b[0;32m/usr/local/lib/python3.10/dist-packages/pandas/util/_decorators.py\u001b[0m in \u001b[0;36mwrapper\u001b[0;34m(*args, **kwargs)\u001b[0m\n\u001b[1;32m    329\u001b[0m                     \u001b[0mstacklevel\u001b[0m\u001b[0;34m=\u001b[0m\u001b[0mfind_stack_level\u001b[0m\u001b[0;34m(\u001b[0m\u001b[0;34m)\u001b[0m\u001b[0;34m,\u001b[0m\u001b[0;34m\u001b[0m\u001b[0;34m\u001b[0m\u001b[0m\n\u001b[1;32m    330\u001b[0m                 )\n\u001b[0;32m--> 331\u001b[0;31m             \u001b[0;32mreturn\u001b[0m \u001b[0mfunc\u001b[0m\u001b[0;34m(\u001b[0m\u001b[0;34m*\u001b[0m\u001b[0margs\u001b[0m\u001b[0;34m,\u001b[0m \u001b[0;34m**\u001b[0m\u001b[0mkwargs\u001b[0m\u001b[0;34m)\u001b[0m\u001b[0;34m\u001b[0m\u001b[0;34m\u001b[0m\u001b[0m\n\u001b[0m\u001b[1;32m    332\u001b[0m \u001b[0;34m\u001b[0m\u001b[0m\n\u001b[1;32m    333\u001b[0m         \u001b[0;31m# error: \"Callable[[VarArg(Any), KwArg(Any)], Any]\" has no\u001b[0m\u001b[0;34m\u001b[0m\u001b[0;34m\u001b[0m\u001b[0m\n",
            "\u001b[0;32m/usr/local/lib/python3.10/dist-packages/pandas/io/parsers/readers.py\u001b[0m in \u001b[0;36mread_csv\u001b[0;34m(filepath_or_buffer, sep, delimiter, header, names, index_col, usecols, squeeze, prefix, mangle_dupe_cols, dtype, engine, converters, true_values, false_values, skipinitialspace, skiprows, skipfooter, nrows, na_values, keep_default_na, na_filter, verbose, skip_blank_lines, parse_dates, infer_datetime_format, keep_date_col, date_parser, dayfirst, cache_dates, iterator, chunksize, compression, thousands, decimal, lineterminator, quotechar, quoting, doublequote, escapechar, comment, encoding, encoding_errors, dialect, error_bad_lines, warn_bad_lines, on_bad_lines, delim_whitespace, low_memory, memory_map, float_precision, storage_options)\u001b[0m\n\u001b[1;32m    948\u001b[0m     \u001b[0mkwds\u001b[0m\u001b[0;34m.\u001b[0m\u001b[0mupdate\u001b[0m\u001b[0;34m(\u001b[0m\u001b[0mkwds_defaults\u001b[0m\u001b[0;34m)\u001b[0m\u001b[0;34m\u001b[0m\u001b[0;34m\u001b[0m\u001b[0m\n\u001b[1;32m    949\u001b[0m \u001b[0;34m\u001b[0m\u001b[0m\n\u001b[0;32m--> 950\u001b[0;31m     \u001b[0;32mreturn\u001b[0m \u001b[0m_read\u001b[0m\u001b[0;34m(\u001b[0m\u001b[0mfilepath_or_buffer\u001b[0m\u001b[0;34m,\u001b[0m \u001b[0mkwds\u001b[0m\u001b[0;34m)\u001b[0m\u001b[0;34m\u001b[0m\u001b[0;34m\u001b[0m\u001b[0m\n\u001b[0m\u001b[1;32m    951\u001b[0m \u001b[0;34m\u001b[0m\u001b[0m\n\u001b[1;32m    952\u001b[0m \u001b[0;34m\u001b[0m\u001b[0m\n",
            "\u001b[0;32m/usr/local/lib/python3.10/dist-packages/pandas/io/parsers/readers.py\u001b[0m in \u001b[0;36m_read\u001b[0;34m(filepath_or_buffer, kwds)\u001b[0m\n\u001b[1;32m    609\u001b[0m \u001b[0;34m\u001b[0m\u001b[0m\n\u001b[1;32m    610\u001b[0m     \u001b[0;32mwith\u001b[0m \u001b[0mparser\u001b[0m\u001b[0;34m:\u001b[0m\u001b[0;34m\u001b[0m\u001b[0;34m\u001b[0m\u001b[0m\n\u001b[0;32m--> 611\u001b[0;31m         \u001b[0;32mreturn\u001b[0m \u001b[0mparser\u001b[0m\u001b[0;34m.\u001b[0m\u001b[0mread\u001b[0m\u001b[0;34m(\u001b[0m\u001b[0mnrows\u001b[0m\u001b[0;34m)\u001b[0m\u001b[0;34m\u001b[0m\u001b[0;34m\u001b[0m\u001b[0m\n\u001b[0m\u001b[1;32m    612\u001b[0m \u001b[0;34m\u001b[0m\u001b[0m\n\u001b[1;32m    613\u001b[0m \u001b[0;34m\u001b[0m\u001b[0m\n",
            "\u001b[0;32m/usr/local/lib/python3.10/dist-packages/pandas/io/parsers/readers.py\u001b[0m in \u001b[0;36mread\u001b[0;34m(self, nrows)\u001b[0m\n\u001b[1;32m   1776\u001b[0m                     \u001b[0mcolumns\u001b[0m\u001b[0;34m,\u001b[0m\u001b[0;34m\u001b[0m\u001b[0;34m\u001b[0m\u001b[0m\n\u001b[1;32m   1777\u001b[0m                     \u001b[0mcol_dict\u001b[0m\u001b[0;34m,\u001b[0m\u001b[0;34m\u001b[0m\u001b[0;34m\u001b[0m\u001b[0m\n\u001b[0;32m-> 1778\u001b[0;31m                 \u001b[0;34m)\u001b[0m \u001b[0;34m=\u001b[0m \u001b[0mself\u001b[0m\u001b[0;34m.\u001b[0m\u001b[0m_engine\u001b[0m\u001b[0;34m.\u001b[0m\u001b[0mread\u001b[0m\u001b[0;34m(\u001b[0m  \u001b[0;31m# type: ignore[attr-defined]\u001b[0m\u001b[0;34m\u001b[0m\u001b[0;34m\u001b[0m\u001b[0m\n\u001b[0m\u001b[1;32m   1779\u001b[0m                     \u001b[0mnrows\u001b[0m\u001b[0;34m\u001b[0m\u001b[0;34m\u001b[0m\u001b[0m\n\u001b[1;32m   1780\u001b[0m                 )\n",
            "\u001b[0;32m/usr/local/lib/python3.10/dist-packages/pandas/io/parsers/c_parser_wrapper.py\u001b[0m in \u001b[0;36mread\u001b[0;34m(self, nrows)\u001b[0m\n\u001b[1;32m    228\u001b[0m         \u001b[0;32mtry\u001b[0m\u001b[0;34m:\u001b[0m\u001b[0;34m\u001b[0m\u001b[0;34m\u001b[0m\u001b[0m\n\u001b[1;32m    229\u001b[0m             \u001b[0;32mif\u001b[0m \u001b[0mself\u001b[0m\u001b[0;34m.\u001b[0m\u001b[0mlow_memory\u001b[0m\u001b[0;34m:\u001b[0m\u001b[0;34m\u001b[0m\u001b[0;34m\u001b[0m\u001b[0m\n\u001b[0;32m--> 230\u001b[0;31m                 \u001b[0mchunks\u001b[0m \u001b[0;34m=\u001b[0m \u001b[0mself\u001b[0m\u001b[0;34m.\u001b[0m\u001b[0m_reader\u001b[0m\u001b[0;34m.\u001b[0m\u001b[0mread_low_memory\u001b[0m\u001b[0;34m(\u001b[0m\u001b[0mnrows\u001b[0m\u001b[0;34m)\u001b[0m\u001b[0;34m\u001b[0m\u001b[0;34m\u001b[0m\u001b[0m\n\u001b[0m\u001b[1;32m    231\u001b[0m                 \u001b[0;31m# destructive to chunks\u001b[0m\u001b[0;34m\u001b[0m\u001b[0;34m\u001b[0m\u001b[0m\n\u001b[1;32m    232\u001b[0m                 \u001b[0mdata\u001b[0m \u001b[0;34m=\u001b[0m \u001b[0m_concatenate_chunks\u001b[0m\u001b[0;34m(\u001b[0m\u001b[0mchunks\u001b[0m\u001b[0;34m)\u001b[0m\u001b[0;34m\u001b[0m\u001b[0;34m\u001b[0m\u001b[0m\n",
            "\u001b[0;32m/usr/local/lib/python3.10/dist-packages/pandas/_libs/parsers.pyx\u001b[0m in \u001b[0;36mpandas._libs.parsers.TextReader.read_low_memory\u001b[0;34m()\u001b[0m\n",
            "\u001b[0;32m/usr/local/lib/python3.10/dist-packages/pandas/_libs/parsers.pyx\u001b[0m in \u001b[0;36mpandas._libs.parsers.TextReader._read_rows\u001b[0;34m()\u001b[0m\n",
            "\u001b[0;32m/usr/local/lib/python3.10/dist-packages/pandas/_libs/parsers.pyx\u001b[0m in \u001b[0;36mpandas._libs.parsers.TextReader._convert_column_data\u001b[0;34m()\u001b[0m\n",
            "\u001b[0;32m/usr/local/lib/python3.10/dist-packages/pandas/core/dtypes/common.py\u001b[0m in \u001b[0;36mis_extension_array_dtype\u001b[0;34m(arr_or_dtype)\u001b[0m\n\u001b[1;32m   1431\u001b[0m \u001b[0;34m\u001b[0m\u001b[0m\n\u001b[1;32m   1432\u001b[0m \u001b[0;34m\u001b[0m\u001b[0m\n\u001b[0;32m-> 1433\u001b[0;31m \u001b[0;32mdef\u001b[0m \u001b[0mis_extension_array_dtype\u001b[0m\u001b[0;34m(\u001b[0m\u001b[0marr_or_dtype\u001b[0m\u001b[0;34m)\u001b[0m \u001b[0;34m->\u001b[0m \u001b[0mbool\u001b[0m\u001b[0;34m:\u001b[0m\u001b[0;34m\u001b[0m\u001b[0;34m\u001b[0m\u001b[0m\n\u001b[0m\u001b[1;32m   1434\u001b[0m     \"\"\"\n\u001b[1;32m   1435\u001b[0m     \u001b[0mCheck\u001b[0m \u001b[0;32mif\u001b[0m \u001b[0man\u001b[0m \u001b[0mobject\u001b[0m \u001b[0;32mis\u001b[0m \u001b[0ma\u001b[0m \u001b[0mpandas\u001b[0m \u001b[0mextension\u001b[0m \u001b[0marray\u001b[0m \u001b[0mtype\u001b[0m\u001b[0;34m.\u001b[0m\u001b[0;34m\u001b[0m\u001b[0;34m\u001b[0m\u001b[0m\n",
            "\u001b[0;31mKeyboardInterrupt\u001b[0m: "
          ]
        }
      ],
      "source": [
        "# We load data into a dataframe and view the first rows of our dataset\n",
        "df = pd.read_csv('/content/drive/MyDrive/esg_documents_for_dax_companies.csv', delimiter = '|', index_col = 0)\n",
        "df.head()"
      ]
    },
    {
      "cell_type": "markdown",
      "metadata": {
        "id": "UN5nsPmrdzi7"
      },
      "source": [
        "Inspecting the structure and content of our dataset a bit further, we see that we have 11 188 entries for a total of 10 variables, which are mostly of the datatype \"object\". "
      ]
    },
    {
      "cell_type": "code",
      "execution_count": null,
      "metadata": {
        "id": "54oWgee9dzi8"
      },
      "outputs": [],
      "source": [
        "# we inspect the structure and content of our dataset\n",
        "df.info()"
      ]
    },
    {
      "cell_type": "markdown",
      "metadata": {
        "id": "ROXiEDm3dzi9"
      },
      "source": [
        "Let's see how many \"internal\" and \"external\" sources we have in our corpus, and how many documents we have for our different companies. We see that there are only 92 documents produced by companies, compared to 11 096 documents stemming from external sources. "
      ]
    },
    {
      "cell_type": "code",
      "execution_count": null,
      "metadata": {
        "id": "mvt7pxXadzi9"
      },
      "outputs": [],
      "source": [
        "# We inspect the categories and counts of the \"internal\" variable\n",
        "internal_counts = df['internal'].value_counts(dropna=False)\n",
        "print(internal_counts)"
      ]
    },
    {
      "cell_type": "markdown",
      "metadata": {
        "id": "dh2E6MB3dzi-"
      },
      "source": [
        "There are only very few documents for some companies, including Muenchener Rueckversicherungs Gesellschaft AG, Fresenius and Hannover R AG."
      ]
    },
    {
      "cell_type": "code",
      "execution_count": null,
      "metadata": {
        "id": "MAmQGWvGdzi-"
      },
      "outputs": [],
      "source": [
        "company_counts = df['company'].value_counts(dropna=False)\n",
        "plt.figure(figsize=(10,6))\n",
        "company_counts.plot.bar()\n",
        "plt.title('Number of documents, by company')\n",
        "plt.xlabel('Company')\n",
        "plt.ylabel('Count')\n",
        "plt.xticks(rotation=45, ha='right')\n",
        "plt.show()"
      ]
    },
    {
      "cell_type": "markdown",
      "metadata": {
        "id": "V9TbZBvUdzi_"
      },
      "source": [
        "Nevertheless, broken down by type of document, we see that the number of internal documents per company is more homogeneously distributed, but that some companies have very few to no external documents. This limitation will be important to take into account when drawing conclusions of our analysis for these companies. For now, we keep all observations in our dataframe, but we may want to revisit this issue at a later stage."
      ]
    },
    {
      "cell_type": "code",
      "execution_count": null,
      "metadata": {
        "id": "ZiX9PRondzi_"
      },
      "outputs": [],
      "source": [
        "# We group the data by company and internal columns\n",
        "grouped_df = df.groupby(['company', 'internal']).size().unstack(fill_value=0)\n",
        "\n",
        "# We create two subplots side by side\n",
        "fig, axes = plt.subplots(nrows=1, ncols=2, figsize=(12, 6))\n",
        "\n",
        "# We plot the count of external documents by company\n",
        "grouped_df[0].sort_values().plot(kind='barh', ax=axes[0], color='tab:blue')\n",
        "axes[0].set_title('Number of external documents, by company')\n",
        "axes[0].set_xlabel('Count')\n",
        "axes[0].set_ylabel('Company')\n",
        "\n",
        "# and we plot the count of internal documents by company\n",
        "grouped_df[1].sort_values().plot(kind='barh', ax=axes[1], color='tab:green')\n",
        "axes[1].set_title('Number of internal documents, by company')\n",
        "axes[1].set_xlabel('Count')\n",
        "axes[1].set_ylabel('')\n",
        "\n",
        "plt.tight_layout()\n",
        "plt.show()"
      ]
    },
    {
      "cell_type": "markdown",
      "metadata": {
        "id": "pgqrQhjOdzjA"
      },
      "source": [
        "Since we can already see some inconsistencies in the names of our companies, we clean these strings right away, transforming them into lower case, removing trailing whitespaces and legal forms of companies, for example. For this, we use regular expressions and string operations. We actually also observe that our dataset includes a company that is not included in the German stock market index, the DAX, namely 'Akzonobel', a Dutch company. In line with the focus of our project, we remove these observations."
      ]
    },
    {
      "cell_type": "code",
      "execution_count": null,
      "metadata": {
        "id": "YcBi9Wh3dzjA"
      },
      "outputs": [],
      "source": [
        "# We define a function to clean our company name values\n",
        "def clean_company_name(company_name):\n",
        "    # Remove common legal forms\n",
        "    company_name = re.sub(r'\\b(?:AG|SE|AGin Muenchen|KGaA)\\b', '', company_name)\n",
        "\n",
        "    # Replace specific company names\n",
        "    replacements = {\n",
        "        'AkzoNobelNV': 'AkzoNobel',\n",
        "        'E ONSE': 'EON',\n",
        "        'Hannover R': 'Hannover Rueck',\n",
        "        'Muenchener Rueckversicherungs Gesellschaft': 'Muenchener Rueck'\n",
        "    }\n",
        "    company_name = replacements.get(company_name.strip(), company_name.strip())\n",
        "    \n",
        "    # Replace multiple consecutive whitespaces with a single whitespace\n",
        "    company_name = re.sub(r'\\s+', ' ', company_name)\n",
        "\n",
        "    # Convert all characters to lowercase (or title case)\n",
        "    company_name = company_name.lower()\n",
        "\n",
        "    return company_name\n",
        "\n",
        "# Apply the cleaning function to the 'company' column\n",
        "df['company'] = df['company'].apply(clean_company_name)\n",
        "\n",
        "# Drop all observations for the company name \"AkzoNobel\"\n",
        "df = df[df['company'] != 'akzonobel']\n",
        "\n",
        "# Check the cleaned company names\n",
        "companies = df['company'].unique()\n",
        "print(companies)"
      ]
    },
    {
      "cell_type": "markdown",
      "metadata": {
        "id": "JiD-CxgBdzjA"
      },
      "source": [
        "We perform some further essential basic data pre-processing steps, examining our dataset for missing and unwanted data. We do not need the columns on the 'url' and the 'domain', for example, so we drop these from our dataframe."
      ]
    },
    {
      "cell_type": "code",
      "execution_count": null,
      "metadata": {
        "id": "GKL9UBCjdzjB"
      },
      "outputs": [],
      "source": [
        "# We drop unwanted columns from our dataframe\n",
        "df.drop(['url', 'domain'], axis=1, inplace=True)"
      ]
    },
    {
      "cell_type": "markdown",
      "metadata": {
        "id": "kNvrpTzkdzjB"
      },
      "source": [
        "We also make sure our data are in the correct format. We therefore convert the \"date\" column to a datetime object, so we can run time-based analyses. We use the errors='coerce' parameter to replace invalid dates with NaT (Not-a-Time) values. In a first step (omitted here) we saw that our dataset actually contained errors for some observations.\n",
        "\n",
        "We see that our corpus covers documents from 31 March 2020 to 2 June 2023. The maximum value seems strange, since our dataset was made available 10 April 2023. We therefore dig deeper into these values and remove any observations later than 10 April 2023. As becomes clear, only two observations are concerned by this issue."
      ]
    },
    {
      "cell_type": "code",
      "execution_count": null,
      "metadata": {
        "id": "2_wKzOuddzjC"
      },
      "outputs": [],
      "source": [
        "# First, we convert the 'date' column to datetime objects\n",
        "df['date'] = pd.to_datetime(df['date'], errors='coerce')\n",
        "\n",
        "# then we inspect the \"date\" column\n",
        "print(df['date'].describe())"
      ]
    },
    {
      "cell_type": "code",
      "execution_count": null,
      "metadata": {
        "id": "sRPMJSyrdzjC"
      },
      "outputs": [],
      "source": [
        "# We get an idea of the number of observations concerned\n",
        "print(df['date'].value_counts())\n",
        "\n",
        "# And we only keep those observations within our valid date range, as well as observations with missing values\n",
        "df = df[(df['date'].isna()) | (df['date'] <= '2023-04-10')]\n"
      ]
    },
    {
      "cell_type": "markdown",
      "metadata": {
        "id": "jRYCETFFdzjD"
      },
      "source": [
        "We still see if we can infer the information on the year that was wrongly encoded from the \"title\" column. Unfortunately, this variable contains no further information, but the same error ('p.DE' instead of the year), so we leave the missing values as is."
      ]
    },
    {
      "cell_type": "code",
      "execution_count": null,
      "metadata": {
        "id": "ahcV-G_zdzjD"
      },
      "outputs": [],
      "source": [
        "# Now we display rows with invalid dates (NaT values)\n",
        "invalid_rows = df.loc[df['date'].isna(), ['company', 'date', 'title']]\n",
        "print(\"Rows with invalid dates:\")\n",
        "print(invalid_rows)"
      ]
    },
    {
      "cell_type": "markdown",
      "metadata": {
        "id": "gZ9pBZzddzjE"
      },
      "source": [
        "Now that we have the information on the date of publication for each document in our corpus, we can plot their evolution over time, again broken down by company. To try something different, we use a heatmap first, which actually reveals some outliers (see EON and Siemens Healthineers). This is also clear when we look at the summary statistics."
      ]
    },
    {
      "cell_type": "code",
      "execution_count": null,
      "metadata": {
        "id": "LI-wXk0mdzjE"
      },
      "outputs": [],
      "source": [
        "# Group the dataframe by company and date and count the number of observations in each group\n",
        "df_counts = df.groupby(['company', 'date']).size().reset_index(name='counts')\n",
        "# print(df_counts)\n",
        "\n",
        "# Pivot the resulting dataframe\n",
        "df_pivot = df_counts.pivot(index='date', columns='company', values='counts')\n",
        "# print(df_pivot)\n",
        "\n",
        "print(df_counts.describe())"
      ]
    },
    {
      "cell_type": "code",
      "execution_count": null,
      "metadata": {
        "id": "zt5PCtCJdzjE"
      },
      "outputs": [],
      "source": [
        "# We create a heatmap of the counts of each company for each date\n",
        "plt.figure(figsize=(12, 6))\n",
        "sns.heatmap(df_pivot, cmap='YlGnBu')\n",
        "plt.xlabel('Company')\n",
        "plt.ylabel('Date')\n",
        "plt.title('Counts of documents by company over time')\n",
        "plt.show()"
      ]
    },
    {
      "cell_type": "markdown",
      "metadata": {
        "id": "fCA4tZ2zdzjF"
      },
      "source": [
        "We then check for missing values in the other columns of our dataset. Looking at the \"content\" column that includes the text of our reports that we want to analyse, we see that there is one row with missing values. "
      ]
    },
    {
      "cell_type": "code",
      "execution_count": null,
      "metadata": {
        "id": "F3UVnKoudzjF"
      },
      "outputs": [],
      "source": [
        "# We check for missing values in other columns\n",
        "missing_values = df.isna().sum()\n",
        "print(missing_values)"
      ]
    },
    {
      "cell_type": "markdown",
      "metadata": {
        "id": "w9ydKnJodzjF"
      },
      "source": [
        "So we simply drop this row without any text. It turns out, this is the same row that has the missing value in the \"symbol\" column, so no imputation is necessary. "
      ]
    },
    {
      "cell_type": "code",
      "execution_count": null,
      "metadata": {
        "id": "q9Q-BxAAdzjG"
      },
      "outputs": [],
      "source": [
        "# We select and display those rows with missing values in the datatype column\n",
        "missing_content_row = df.loc[df['content'].isna()]\n",
        "print(missing_content_row)\n",
        "\n",
        "# We drop rows with missing text in the \"content\" column\n",
        "df = df.dropna(subset=['content'])"
      ]
    },
    {
      "cell_type": "markdown",
      "metadata": {
        "id": "7k7DdtnYdzjG"
      },
      "source": [
        "We also inspect the rows with missing values in the \"datatype\" column more closely. We get an understanding of the categories of this variable, and the number of observations in each category. We have 51 sustainability reports and 38 annual reports in our dataset. "
      ]
    },
    {
      "cell_type": "code",
      "execution_count": null,
      "metadata": {
        "id": "IK3QU9hIdzjG"
      },
      "outputs": [],
      "source": [
        "# We inspect the categories and counts of the \"datatype\" variable\n",
        "datatype_counts = df['datatype'].value_counts(dropna=False)\n",
        "print(datatype_counts)"
      ]
    },
    {
      "cell_type": "markdown",
      "metadata": {
        "id": "HsE65woadzjH"
      },
      "source": [
        "Looking at those observations with missing values in the \"datatype\" column, we see that this concerns only external documents. However, from a closer reading, we can also see that some documents may be wrongly classified. For example, the \"Dräger Sustainability Report 2020\" is classified as being external, similar to the \"Merck Sustainability Report 2021\". We have valid reasons to assume that these and similar cases are internal documents, so we recode the variable where necessary. For other observations with missing values in the \"datatype\" column, we impute the value with the most frequent observations, that is the mode. "
      ]
    },
    {
      "cell_type": "code",
      "execution_count": null,
      "metadata": {
        "id": "8MNtc56RdzjH"
      },
      "outputs": [],
      "source": [
        "# We select and display those rows with missing values in the datatype column\n",
        "missing_datatype_rows = df.loc[df['datatype'].isna(), ['company', 'datatype', 'title', 'internal']]\n",
        "print(missing_datatype_rows)"
      ]
    },
    {
      "cell_type": "code",
      "execution_count": null,
      "metadata": {
        "id": "Rdgs2GB0dzjI"
      },
      "outputs": [],
      "source": [
        "# We recode the \"internal\" variable based on the \"title\" column, no matter if in capitals or lower case\n",
        "print(\"Counts of 'internal' variable before:\")\n",
        "print(df['internal'].value_counts())\n",
        "\n",
        "condition = df['title'].str.contains('Sustainability Report|Annual Report', case=False)\n",
        "df.loc[condition, 'internal'] = 1\n",
        "\n",
        "# Check the updated \"internal\" column\n",
        "print(\"Counts of 'internal' variable after:\")\n",
        "print(df['internal'].value_counts())\n",
        "\n",
        "# We impute missing values in the \"datatype\" column with the mode\n",
        "print(\"Counts of 'datatype' variable before:\")\n",
        "print(df['datatype'].value_counts())\n",
        "\n",
        "mode_datatype = df['datatype'].mode().iloc[0]\n",
        "df['datatype'].fillna(mode_datatype, inplace=True)\n",
        "\n",
        "print(\"Counts of 'datatype' variable after:\")\n",
        "print(df['datatype'].value_counts())"
      ]
    },
    {
      "cell_type": "markdown",
      "metadata": {
        "id": "KdVOr03sdzjI"
      },
      "source": [
        "Finally, we saw in the first rows of our dataframe that the 'esg_topics' variable contains a list for each observation. This will be difficult to work with, if we explore these topics further later on, so we one-hot encode this variable. That means creating a dedicated column per unique topic, labelling a row with 1 if it contains this topic, or 0 otherwise. We use sci-kit-learn's MultiLabelBinarizer."
      ]
    },
    {
      "cell_type": "code",
      "execution_count": null,
      "metadata": {
        "id": "WlQXFYwxdzjI"
      },
      "outputs": [],
      "source": [
        "# We ensure that the esg_topics column contains lists and handle missing or invalid data\n",
        "def process_topics(x):\n",
        "    if isinstance(x, str):\n",
        "        x = x.strip(\"[]\").split(\", \")\n",
        "        return [item.strip(\"'\") for item in x]\n",
        "    else:\n",
        "        return []\n",
        "\n",
        "df['esg_topics'] = df['esg_topics'].apply(process_topics)\n",
        "\n",
        "# We use MultiLabelBinarizer to one-hot encode the ESG topics\n",
        "mlb = MultiLabelBinarizer()\n",
        "one_hot_encoded_topics = mlb.fit_transform(df['esg_topics'])\n",
        "\n",
        "# We create a new df with binary columns for each unique ESG topic\n",
        "one_hot_encoded_topics_df = pd.DataFrame(one_hot_encoded_topics, columns=mlb.classes_, index=df.index)\n",
        "\n",
        "# .. and concatenate the original df with the one-hot encoded topics\n",
        "df = pd.concat([df, one_hot_encoded_topics_df], axis=1)"
      ]
    },
    {
      "cell_type": "markdown",
      "metadata": {
        "id": "Ac8XrfcUdzjJ"
      },
      "source": [
        "### Text cleaning and linguistic processing"
      ]
    },
    {
      "cell_type": "markdown",
      "metadata": {
        "id": "QdDeNxNddzjJ"
      },
      "source": [
        "Let's now get to our next part, we take a closer look at and clean and process our textual data. This serves to make our text more understandable but also to get better insights later on. We already cleaned the text of our company names. Our analysis will mainly be based on the content of the documents for each company. So we focus on this element of our dataset here. \n",
        "\n",
        "We will run methods to ensure the quality of our data (e.g. handling typos), to normalize our text (e.g. lowercasing, removing punctuation) to improve consistency and reduce dimensionality in our data, and apply other common text pre-processing techniques, including splitting our document into tokens, removing stop words, and and lemmatizing words.\n",
        "\n",
        "First, however, we take a look at the language in which our documents are written and the encoding used to represent our text data. While we assume that the documents in our corpus are in English, we check the language actually used, making use of Python's langdetect library. As it turns out, the majority of our documents are indeed in English, but our corpus includes documents in other languages, from French to Swahili. We could translate these documents, using a Deepl API, for example. For simplicity, we just exclude any languages other than English here."
      ]
    },
    {
      "cell_type": "code",
      "execution_count": null,
      "metadata": {
        "id": "1sPh3eFZdzjJ"
      },
      "outputs": [],
      "source": [
        "# we define our function to detect the language for a given text\n",
        "def detect_language(text):\n",
        "    try:\n",
        "        return detect(text)\n",
        "    except:\n",
        "        return None\n",
        "\n",
        "# We apply the function to the 'content' column and store the result in a new variable\n",
        "df['language'] = df['content'].apply(detect_language)\n",
        "\n",
        "language_counts = df['language'].value_counts()\n",
        "print(language_counts)\n",
        "\n",
        "# We have a look at some of these documents  in our corpus.\n",
        "print(df[df['language'] == 'pl'])"
      ]
    },
    {
      "cell_type": "code",
      "execution_count": null,
      "metadata": {
        "id": "-8WRNISwdzjK"
      },
      "outputs": [],
      "source": [
        "# We filter our dataframe to exclude rows with languages other than English\n",
        "df = df[df['language'] == 'en']"
      ]
    },
    {
      "cell_type": "markdown",
      "metadata": {
        "id": "uWtcLm4OdzjK"
      },
      "source": [
        "Next, we carry out some unicode normalization to avoid that potential encoding issues result in processing errors further down our pipeline."
      ]
    },
    {
      "cell_type": "code",
      "execution_count": null,
      "metadata": {
        "id": "wglwckEIdzjK"
      },
      "outputs": [],
      "source": [
        "# Unicode normalization\n",
        "def normalize_unicode(text, normalization_form='NFC'):\n",
        "    return unicodedata.normalize(normalization_form, text)\n",
        "\n",
        "# Apply the function to the \"content\" column\n",
        "df['content'] = df['content'].apply(normalize_unicode)"
      ]
    },
    {
      "cell_type": "markdown",
      "metadata": {
        "id": "5TkATgiHdzjK"
      },
      "source": [
        "We then start with cleaning our text. The best way for determining the steps required is to take a look at some of the documents in our corpus. We do so separately for different \"datatypes\", since the type of document may influence the types of noise it containts (e.g. HTML tags in web documents). We observe that the general noise seems to be similar."
      ]
    },
    {
      "cell_type": "code",
      "execution_count": null,
      "metadata": {
        "id": "fZ-F1eqldzjL"
      },
      "outputs": [],
      "source": [
        "# We run the cell below a few times, taking a look at our text and the raw data.\n",
        "def display_text_samples_by_datatype(df, datatype, num_samples=10):\n",
        "    df_filtered = df[df['datatype'] == datatype]\n",
        "    print(df_filtered['content'].sample(num_samples).values)\n",
        "\n",
        "# We can replace 'company_website' with any other datatype to explore text samples from different categories\n",
        "# categories: general, business, tech, thinktank, esg, science, sustainability_report, annual_report, company_website\n",
        "display_text_samples_by_datatype(df, 'annual_report')"
      ]
    },
    {
      "cell_type": "markdown",
      "metadata": {
        "id": "ruPaROy4dzjL"
      },
      "source": [
        "Based on general practice, and the nature of our texts, we carry out the following steps:\n",
        "- Expanding contractions\n",
        "- Lowercasing the content\n",
        "- Removing digits and words containing digits\n",
        "- Removing punctuations\n",
        "\n",
        "Contractions are short forms that should be extended to their full form, for example. Lowercasing helps eliminate sparsity and reduce the size of the vocabulary in our corpus, although it may increase ambiguity at the same time (e.g. 'Apple' as a brand versus 'apple' the fruit). We use regular expressions as well as dedicated libraries, such as contractions.\n",
        "\n",
        "We initially apply these steps to a sample of our relevant data, where we encounter issues with two documents that cannot be processed, for reasons which are not clear. Since the number of documents concerned is small, we simply remove them from our corpus.\n",
        "\n",
        "EDIT: since stage 3 requires sentence level tokens, we adjust these steps accordingly to generate one column with sentence tokens. For example, tokenizing our documents into sentences requires punctuation."
      ]
    },
    {
      "cell_type": "code",
      "execution_count": null,
      "metadata": {
        "id": "kykd9ajZDU-u"
      },
      "outputs": [],
      "source": [
        "# first, we tokenize our text into sentences\n",
        "df.loc[:, 'sentences'] = df['content'].apply(sent_tokenize)\n"
      ]
    },
    {
      "cell_type": "code",
      "execution_count": null,
      "metadata": {
        "id": "FaFflXDTyxRM"
      },
      "outputs": [],
      "source": [
        "df.head()\n",
        "# print(df['sentences'].dtype)\n"
      ]
    },
    {
      "cell_type": "code",
      "execution_count": null,
      "metadata": {
        "id": "P2DLsYkx11y4"
      },
      "outputs": [],
      "source": [
        "# we get an idea of the length of our sentences\n",
        "df['sentences_length'] = df['sentences'].apply(lambda x: len(x))\n",
        "print(df['sentences_length'].describe())"
      ]
    },
    {
      "cell_type": "code",
      "execution_count": null,
      "metadata": {
        "id": "xMvRHv7MEcV9"
      },
      "outputs": [],
      "source": [
        "# We look at a sample of our pre-processed data\n",
        "print(df['sentences'].sample(10))\n",
        "\n",
        "# and one observation at a time in greater detail\n",
        "print(df['sentences'].iloc[8])"
      ]
    },
    {
      "cell_type": "code",
      "execution_count": null,
      "metadata": {
        "id": "icvF2uYgN8AW"
      },
      "outputs": [],
      "source": [
        "# Create a dictionary of words to be replaced\n",
        "replacement_dict = {\n",
        "    \"mtus\": \"mtu\",\n",
        "    \"lindes\": \"linde\",\n",
        "    \"porsches\": \"porsche\",\n",
        "    \"covestros\": \"covestro\",\n",
        "    \"qiagens\": \"qiagen\"\n",
        "}\n",
        "\n",
        "def replace_words(text):\n",
        "    # Replace words in the text according to the replacement dictionary\n",
        "    for word, replacement in replacement_dict.items():\n",
        "        text = text.replace(word, replacement)\n",
        "    return text\n",
        "\n",
        "def expand_contractions(text):\n",
        "    return contractions.fix(text)\n",
        "\n",
        "def preprocess_text(sentences):\n",
        "    processed_sentences = []\n",
        "    for text in sentences:\n",
        "        try:\n",
        "            if not text:\n",
        "                continue  \n",
        "                # processed_sentences.append(text)\n",
        "            else:\n",
        "                # Expanding contractions\n",
        "                text = expand_contractions(text)\n",
        "        \n",
        "                # Lowercasing the text\n",
        "                text = text.lower()\n",
        "\n",
        "                # Removing punctuations\n",
        "                text = re.sub(r'[^\\w\\s]', '', text)\n",
        "\n",
        "                # Removing digits and words containing digits\n",
        "                text = re.sub(r'\\w*\\d\\w*', '', text)\n",
        "\n",
        "                # Removing special characters\n",
        "                text = re.sub(r'[^a-z\\s]', '', text)\n",
        "                \n",
        "                # Replace words according to the replacement dictionary\n",
        "                text = replace_words(text)\n",
        "\n",
        "                # Removing extra spaces\n",
        "                text = re.sub(r'\\s+', ' ', text).strip()\n",
        "\n",
        "                if text:\n",
        "                    processed_sentences.append(text)\n",
        "        except IndexError as e:\n",
        "            print(f\"Error processing text: {text}\")\n",
        "            return None\n",
        "    return processed_sentences\n",
        "\n",
        "# Apply the function to the 'sentences' column\n",
        "df['preprocessed_sentences'] = df['sentences'].apply(preprocess_text)\n",
        "\n",
        "# Drop rows with issues encountered in the data cleaning\n",
        "df = df.dropna(subset=['preprocessed_sentences'])"
      ]
    },
    {
      "cell_type": "code",
      "execution_count": null,
      "metadata": {
        "id": "DTS3ToT8K978"
      },
      "outputs": [],
      "source": [
        "# We look at a sample of our pre-processed data\n",
        "print(df['preprocessed_sentences'].sample(10))\n",
        "\n",
        "# and one observation at a time in greater detail\n",
        "print(df['preprocessed_sentences'].iloc[8])"
      ]
    },
    {
      "cell_type": "code",
      "execution_count": null,
      "metadata": {
        "id": "thDxb65CcSyb"
      },
      "outputs": [],
      "source": [
        "# # then we explode the 'sentences' column so we have one row per sentence, and then we pre-process further and tokenize to words\n",
        "# df = df.explode('sentences')\n",
        "\n",
        "# # Reset the index\n",
        "# df = df.reset_index(drop=True)"
      ]
    },
    {
      "cell_type": "code",
      "execution_count": null,
      "metadata": {
        "id": "fPTI2qtvdtes"
      },
      "outputs": [],
      "source": [
        "# Convert 'preprocessed_sentences' column to list so we can tokenize to words\n",
        "# df['preprocessed_sentences'] = df['preprocessed_sentences'].apply(lambda x: [x] if isinstance(x, str) else x)\n",
        "\n",
        "# and take a look at the dataframe\n",
        "df.head()"
      ]
    },
    {
      "cell_type": "code",
      "execution_count": null,
      "metadata": {
        "id": "5mpRUpRh3iYj"
      },
      "outputs": [],
      "source": [
        "# # we also get an idea of the length of our preprocessed sentences\n",
        "# df['preprocessed_sentences_length'] = df['preprocessed_sentences'].apply(lambda x: len(x))\n",
        "# print(df['preprocessed_sentences_length'].describe())"
      ]
    },
    {
      "cell_type": "code",
      "execution_count": null,
      "metadata": {
        "id": "KUUOqQ2RfZQi"
      },
      "outputs": [],
      "source": [
        "# for sentence in df['preprocessed_sentences']:\n",
        "#     print(sentence)\n"
      ]
    },
    {
      "cell_type": "markdown",
      "metadata": {
        "id": "Pwz2E7SJdzjM"
      },
      "source": [
        "Next, we’ll tokenize our documents into individual constituent units, before removing stopwords and lemmatizing our tokens. Stopwords are the most common words of a language like which do not add much value to the meaning of a document. These values are removed to decrease the dataset size and increase focus on meaningful words. Lemmatization is a systematic process of reducing a token to its lemma, that is its base form. We use the NLTK (Natural Language Toolkit) library for these tasks, and we store our preprocessed text both, as lists of tokens (which is required for our word embeddings later on) and simply as strings (required for TF-IDF for example)."
      ]
    },
    {
      "cell_type": "code",
      "execution_count": null,
      "metadata": {
        "id": "re3NWS5cPpWx"
      },
      "outputs": [],
      "source": [
        "# # We test on a sample first\n",
        "# sample_df = df.sample(n=50, random_state=42)\n",
        "\n",
        "def tokenize_and_join(sentences):\n",
        "    # Stopwords removal\n",
        "    stop_words = set(stopwords.words('english'))\n",
        "\n",
        "    # Lemmatization\n",
        "    lemmatizer = WordNetLemmatizer()\n",
        "\n",
        "    tokenized_sentences = []\n",
        "    for text in sentences:\n",
        "        # Word tokenization and further cleaning (lemmatization, stopwords removal)\n",
        "        words = nltk.tokenize.word_tokenize(text)\n",
        "        # processed_tokens = [lemmatizer.lemmatize(word) for word in words if word not in stop_words]\n",
        "        processed_tokens = [lemmatizer.lemmatize(word) for word in words if word.isalpha() and word not in stop_words]\n",
        "        \n",
        "        # Extend the list instead of appending\n",
        "        tokenized_sentences.extend(processed_tokens)\n",
        "\n",
        "        # Print the intermediate tokens\n",
        "        print(processed_tokens)\n",
        "\n",
        "    # Join the processed tokens into a single string\n",
        "    tokenized_sentence_str = \" \".join(tokenized_sentences)\n",
        "    \n",
        "    # Return the processed tokens as a single list and the joined strings\n",
        "    return tokenized_sentences, tokenized_sentence_str\n",
        "\n",
        "\n",
        "# Apply the function to the dataframe and store the results in separate columns\n",
        "# sample_df['tokens'], sample_df['token_string'] = zip(*sample_df['preprocessed_sentences'].apply(tokenize_and_join))\n",
        "df['tokens'], df['token_string'] = zip(*df['preprocessed_sentences'].apply(tokenize_and_join))\n",
        "\n",
        "# print(sample_df['tokens'].head())\n",
        "# print(sample_df['token_string'].head())\n",
        "print(df['tokens'].head())\n",
        "print(df['token_string'].head())"
      ]
    },
    {
      "cell_type": "markdown",
      "metadata": {
        "id": "GA0jjV2afDDH"
      },
      "source": [
        "We save our dataframe with the preprocessed and cleaned data to facilitate analyses and further work in the later stages of the project."
      ]
    },
    {
      "cell_type": "code",
      "execution_count": null,
      "metadata": {
        "id": "T1PSAtuefjY0"
      },
      "outputs": [],
      "source": [
        "# Google Colab\n",
        "df.to_pickle(\"/content/drive/My Drive/preprocessed_df.pkl\")\n",
        "\n",
        "# Local VS Code\n",
        "# df.to_pickle(\"preprocessed_df.pkl\")"
      ]
    },
    {
      "cell_type": "markdown",
      "metadata": {
        "id": "AOLeEciWdzjN"
      },
      "source": [
        "We now take a look at our tokenized clean text, broken down by company. We use the simple string of tokens."
      ]
    },
    {
      "cell_type": "code",
      "execution_count": null,
      "metadata": {
        "id": "HrVKwf8odzjO"
      },
      "outputs": [],
      "source": [
        "# Group preprocessed text by company\n",
        "tokens_by_company = df.groupby('company')['token_string'].apply(lambda x: ' '.join(x))\n",
        "#tokens_by_company = df.groupby('company')['tokens'].apply(lambda x: ' '.join([' '.join(tokens) for tokens in x]))\n",
        "\n",
        "# Print preprocessed text by company\n",
        "print(tokens_by_company)\n"
      ]
    },
    {
      "cell_type": "markdown",
      "metadata": {
        "id": "r6zzpIcydzjO"
      },
      "source": [
        "Finally, and before going into our exploratory data analysis, we get an idea of the length of our raw text and the number of tokens in our clean text. The output indicates that the length and number of tokens have a wide range of values, with the mean length of the raw content strings being 1092, and the mean number of tokens beings 767. However, the longest content has 149 143 characters and 107 374 tokens."
      ]
    },
    {
      "cell_type": "code",
      "execution_count": null,
      "metadata": {
        "id": "IVL0nRepdzjO"
      },
      "outputs": [],
      "source": [
        "# Calculate the length of processed text and the number of tokens\n",
        "df['content_raw_length'] = df['content'].apply(lambda x: len(x))\n",
        "df['sentence_length'] = df['sentences'].apply(lambda x: len(x))\n",
        "df['num_tokens'] = df['token_string'].apply(lambda x: len(x))\n",
        "df['tokens_length'] = df['tokens'].apply(lambda x: len(x))\n",
        "\n",
        "\n",
        "print(df[['content_raw_length', 'sentence_length', 'num_tokens', 'tokens_length']].describe())\n"
      ]
    },
    {
      "cell_type": "code",
      "execution_count": null,
      "metadata": {
        "id": "ssPJ1rqvdzjP"
      },
      "outputs": [],
      "source": [
        "# we visualize number of tokens\n",
        "plt.hist(df['num_tokens'], bins=50)\n",
        "plt.xlabel('Number of tokens')\n",
        "plt.ylabel('Frequency')\n",
        "plt.yscale('log')\n",
        "plt.show()"
      ]
    },
    {
      "cell_type": "markdown",
      "metadata": {
        "id": "Qo7ejc6HdzjP"
      },
      "source": [
        "## Part 2. Exploratory Data Analysis"
      ]
    },
    {
      "cell_type": "markdown",
      "metadata": {
        "id": "4lK0Hy2sdzjP"
      },
      "source": [
        "### Text representation and word frequency distribution"
      ]
    },
    {
      "cell_type": "markdown",
      "metadata": {
        "id": "3BBb_gdmdzjQ"
      },
      "source": [
        "As a first step in our exploratory data analysis, we would like to get an idea of the word frequency distribution, that is the most common words in our documents, broken down by specific variables such as company. Since we are interested in understanding the practice of \"greenwashing\", we would like to understand the nature of our texts better for \"internal\" versus \"third-party\" documents. We therefore split out dataset accordingly."
      ]
    },
    {
      "cell_type": "code",
      "execution_count": null,
      "metadata": {
        "id": "S276f6BOdzjQ"
      },
      "outputs": [],
      "source": [
        "# We separate our full corpus into internal and third-party documents\n",
        "df_internal = df[df['internal'] == 1]\n",
        "df_third_party = df[df['internal'] == 0]"
      ]
    },
    {
      "cell_type": "markdown",
      "metadata": {
        "id": "H-MHd3G5dzjQ"
      },
      "source": [
        "We then start with transforming our tokens into a suitable vector representation, to consider the term frequency and inverse document frequency (TF-IDF). We then plot the frequency distribution of tokens for each company to get an understanding of the importance of words in our internal documents, that is mainly annual and sustainability reports. We set the parameter min_df to 2, which means the terms must appear in at least 2 documents to be included. The max_df value of 0.95 means the terms that appear in more than 95% of documents will be ignored. Playing around with these parameters, we see that the most important tokens in our documents change quite a lot."
      ]
    },
    {
      "cell_type": "code",
      "execution_count": null,
      "metadata": {
        "id": "NGUwY72QdzjQ"
      },
      "outputs": [],
      "source": [
        "# We prepare a TF-IDF matrix for internal documents\n",
        "tfidf_vectorizer = TfidfVectorizer(max_df=0.95, min_df=2, stop_words='english')\n",
        "tfidf_internal = tfidf_vectorizer.fit_transform(df_internal['token_string'])"
      ]
    },
    {
      "cell_type": "markdown",
      "metadata": {
        "id": "pTK8rDWIdzjR"
      },
      "source": [
        "In the following plots, the scale on the y-axis represents the sum of TF-IDF values of the top words for each company. It shows the importance of these words within the company's documents compared to the entire corpus. We then see clearly that typically the most improtant word in the company-specific internal documents is the company itself. For the remaining top words, we can typically easily infer the field a company is working in. Say, 'defence' and 'aerospace' for Airbus, or 'investment', 'insurance' and 'risk' for Allianz. \n",
        "\n",
        "The terms 'sustainability' and 'climate' also appear to be very important in the documents of a number of companies, including Allianz, Beiersdorf, Brenntag, Daimler, etc. We can also observe that we still have some noise in our data that we may want to go back to and remove. The meaning of 'rst' for Airbus, 'se' for Vonovia or 'http' for EON for example is unclear."
      ]
    },
    {
      "cell_type": "code",
      "execution_count": null,
      "metadata": {
        "id": "cfcbTPttdzjR"
      },
      "outputs": [],
      "source": [
        "def plot_word_freq_dist_subplot(ax, tfidf_matrix, company_indices, company_name, n, vectorizer):\n",
        "    company_tfidf = tfidf_matrix[company_indices].toarray()\n",
        "    word_counts = np.sum(company_tfidf, axis=0)\n",
        "    top_n_idx = np.argsort(word_counts)[-n:]\n",
        "    top_n_words = [vectorizer.get_feature_names_out()[i] for i in top_n_idx]\n",
        "    top_n_counts = word_counts[top_n_idx]\n",
        "\n",
        "    ax.bar(top_n_words, top_n_counts)\n",
        "    ax.set_xticklabels(top_n_words, rotation=45)\n",
        "    ax.set_title(company_name)\n",
        "\n",
        "# Group the documents by company\n",
        "grouped_indices = df_internal.groupby('company').indices\n",
        "n_companies = len(grouped_indices)\n",
        "\n",
        "n_cols = 2\n",
        "n_rows = int(np.ceil(n_companies / n_cols))\n",
        "fig, axes = plt.subplots(n_rows, n_cols, figsize=(15, 5 * n_rows), sharey=True)\n",
        "\n",
        "for i, (company, indices) in enumerate(grouped_indices.items()):\n",
        "    row, col = divmod(i, n_cols)\n",
        "    plot_word_freq_dist_subplot(axes[row, col], tfidf_internal, indices, company, 10, tfidf_vectorizer)\n",
        "\n",
        "# Remove empty subplots if there are any\n",
        "if n_rows * n_cols > n_companies:\n",
        "    for j in range(i + 1, n_rows * n_cols):\n",
        "        row, col = divmod(j, n_cols)\n",
        "        fig.delaxes(axes[row, col])\n",
        "\n",
        "plt.tight_layout()\n",
        "plt.show()"
      ]
    },
    {
      "cell_type": "markdown",
      "metadata": {
        "id": "1QeuRdc2dzjR"
      },
      "source": [
        "Employing the same tool to the third-party sources for our different companies, we see that the most important words change, focussing for example more on products (e.g. 'sneakers' for Adidas, 'logistics' for Deutsche Post) or specific events (e.g. 'trump'for Deutsche Bank or 'ransomware' for Brenntag). We again also see that our text pre-processing was not perfect (e.g. 'deutsche' and 'bank' are split). Finally, as was highlighted at the beginning of the analyses, results for companies with a limited number of external documents (e.g. Fresenius) need to be interpreted with caution."
      ]
    },
    {
      "cell_type": "code",
      "execution_count": null,
      "metadata": {
        "id": "HlO-ZFmcdzjR"
      },
      "outputs": [],
      "source": [
        "# We prepare a TF-IDF matrix for external documents\n",
        "tfidf_vectorizer = TfidfVectorizer(max_df=0.95, min_df=2, stop_words='english')\n",
        "tfidf_third_party= tfidf_vectorizer.fit_transform(df_third_party['token_string'])\n",
        "\n",
        "# we repeat for our third-party document\n",
        "def plot_word_freq_dist(ax, tfidf_matrix, company_indices, company_name, n, vectorizer):\n",
        "    company_tfidf = tfidf_matrix[company_indices].toarray()\n",
        "    word_counts = np.sum(company_tfidf, axis=0)\n",
        "    top_n_idx = np.argsort(word_counts)[-n:]\n",
        "    top_n_words = [vectorizer.get_feature_names_out()[i] for i in top_n_idx]\n",
        "    top_n_counts = word_counts[top_n_idx]\n",
        "\n",
        "    ax.bar(top_n_words, top_n_counts)\n",
        "    ax.set_xticklabels(top_n_words, rotation=45)\n",
        "    ax.set_title(company_name)\n",
        "\n",
        "# We group the documents by company\n",
        "grouped_indices = df_third_party.groupby('company').indices\n",
        "n_companies = len(grouped_indices)\n",
        "\n",
        "n_cols = 2\n",
        "n_rows = int(np.ceil(n_companies / n_cols))\n",
        "fig, axes = plt.subplots(n_rows, n_cols, figsize=(15, 5 * n_rows), sharey=True)\n",
        "\n",
        "for i, (company, indices) in enumerate(grouped_indices.items()):\n",
        "    row, col = divmod(i, n_cols)\n",
        "    plot_word_freq_dist(axes[row, col], tfidf_third_party, indices, company, 10, tfidf_vectorizer)\n",
        "\n",
        "# Remove empty subplots if there are any\n",
        "if n_rows * n_cols > n_companies:\n",
        "    for j in range(i + 1, n_rows * n_cols):\n",
        "        row, col = divmod(j, n_cols)\n",
        "        fig.delaxes(axes[row, col])\n",
        "\n",
        "plt.tight_layout()\n",
        "plt.show()"
      ]
    },
    {
      "cell_type": "markdown",
      "metadata": {
        "id": "TvN4n3C-dzjS"
      },
      "source": [
        "Next, let's look at whether our documents differ in the most important words depending on whether they are general 'annual reports' or 'sustainability_reports'. We do so for our entire corpus of internal documents, broken down by this variable, and setting min_df equal to 4. We can also see some differences given the focus of each report, from  more financial focus in the annual reports (e.g. 'risk', 'cash', 'asset') to ESG topics in sustainability reports (e.g. 'employee', 'sustainability', 'emission')."
      ]
    },
    {
      "cell_type": "code",
      "execution_count": null,
      "metadata": {
        "id": "DGK9IjbOdzjS"
      },
      "outputs": [],
      "source": [
        "tfidf_vectorizer = TfidfVectorizer(max_df=0.95, min_df=4, stop_words='english')\n",
        "tfidf_internal = tfidf_vectorizer.fit_transform(df_internal['token_string'])\n",
        "\n",
        "annual_report_indices = df_internal[df_internal['datatype'] == 'annual_report'].index\n",
        "sustainability_report_indices = df_internal[df_internal['datatype'] == 'sustainability_report'].index\n",
        "\n",
        "def plot_word_freq_dist(ax, tfidf_matrix, df, indices, title, n, vectorizer):\n",
        "    tfidf_data = tfidf_matrix[df.index.isin(indices)].toarray()\n",
        "    word_counts = np.sum(tfidf_data, axis=0)\n",
        "    top_n_idx = np.argsort(word_counts)[-n:]\n",
        "    top_n_words = [vectorizer.get_feature_names_out()[i] for i in top_n_idx]\n",
        "    top_n_counts = word_counts[top_n_idx]\n",
        "\n",
        "    ax.bar(top_n_words, top_n_counts)\n",
        "    ax.set_xticklabels(top_n_words, rotation=45)\n",
        "    ax.set_title(title)\n",
        "\n",
        "fig, axes = plt.subplots(1, 2, figsize=(15, 5), sharey=True)\n",
        "\n",
        "top_n_words = 10\n",
        "plot_word_freq_dist(axes[0], tfidf_internal, df_internal, annual_report_indices, 'Annual Reports', top_n_words, tfidf_vectorizer)\n",
        "plot_word_freq_dist(axes[1], tfidf_internal, df_internal, sustainability_report_indices, 'Sustainability Reports', top_n_words, tfidf_vectorizer)\n",
        "\n",
        "plt.tight_layout()\n",
        "plt.show()\n"
      ]
    },
    {
      "cell_type": "markdown",
      "metadata": {
        "id": "C-VxebN4dzjT"
      },
      "source": [
        "Next we look at the combination of tokens, looking at bigrams, that is 2-worded phrases, comparing internal documents and third-party sources in our corpus. We use again the TfidfVectorizer from scikit learn. Plotting the two graphs side by side, we see that they only share the term 'supply chain' among their most important 2-word combinations. This is probably not that surprising, given the disruptions in this area in the time period covered by our corpus. Interestingly, 'human rights' and 'fair value' also appear as important bigrams in our internal documents. External documents focus a lot on energy-related topics (e.g. 'electric vehicle', 'offshore wind'), which could point to the coverage of companies in this business area in our corpus or attention to this issue (e.g. in relation to the war between Russia and Ukraine)."
      ]
    },
    {
      "cell_type": "code",
      "execution_count": null,
      "metadata": {
        "id": "qz6DJTcsdzjT"
      },
      "outputs": [],
      "source": [
        "bigram_vectorizer_internal = TfidfVectorizer(max_df=0.95, min_df=5, stop_words='english', ngram_range=(2, 2))\n",
        "bigram_internal = bigram_vectorizer_internal.fit_transform(df_internal['token_string'])\n",
        "\n",
        "bigram_vectorizer_external = TfidfVectorizer(max_df=0.95, min_df=5, stop_words='english', ngram_range=(2, 2))\n",
        "bigram_external = bigram_vectorizer_external.fit_transform(df_third_party['token_string'])\n",
        "\n",
        "def plot_bigram_freq_dist(ax, tfidf_matrix, n, vectorizer, title):\n",
        "    word_counts = np.sum(tfidf_matrix.toarray(), axis=0)\n",
        "    top_n_idx = np.argsort(word_counts)[-n:]\n",
        "    top_n_words = [vectorizer.get_feature_names_out()[i] for i in top_n_idx]\n",
        "    top_n_counts = word_counts[top_n_idx]\n",
        "\n",
        "    ax.barh(top_n_words, top_n_counts)\n",
        "    ax.set_xlabel('Frequency')\n",
        "    ax.set_ylabel('Bigrams')\n",
        "    ax.set_title(title)\n",
        "\n",
        "top_n_bigrams = 10\n",
        "fig, axes = plt.subplots(1, 2, figsize=(20, 10), sharey=True)\n",
        "\n",
        "plot_bigram_freq_dist(axes[0], bigram_internal, top_n_bigrams, bigram_vectorizer_internal, 'Top bigrams in internal documents')\n",
        "plot_bigram_freq_dist(axes[1], bigram_external, top_n_bigrams, bigram_vectorizer_external, 'Top bigrams in external documents')\n",
        "\n",
        "plt.tight_layout()\n",
        "plt.show()"
      ]
    },
    {
      "cell_type": "markdown",
      "metadata": {
        "id": "JYwN0khJdzjT"
      },
      "source": [
        "Using TF-IDF to get an idea of the language in our documents has some drawbacks, so we work with word embeddings now in a separate step, to also capture the semantic relationship between words. Such distributed representations use dense vectors to represent words in a continuous space, unlike sparse representations like TF-IDF. Note that here we use the full corpus for training, both internal and third-party documents."
      ]
    },
    {
      "cell_type": "code",
      "execution_count": null,
      "metadata": {
        "id": "qbEHNrfSdzjU"
      },
      "outputs": [],
      "source": [
        "# We train a Word2Vec model\n",
        "\n",
        "# Set values for various parameters\n",
        "feature_size =100  # Word vector dimensionality\n",
        "window_context = 5  # Context window size\n",
        "min_word_count = 2  # Minimum word count\n",
        "\n",
        "# Initialize and train the Word2Vec model\n",
        "#w2vmodel = Word2Vec(sentences=df['tokens'], vector_size=feature_size, window=window_context, min_count=min_word_count)\n",
        "w2vmodel = Word2Vec(sentences=df['tokens'].tolist(), vector_size=feature_size, window=window_context, min_count=min_word_count)\n",
        "\n",
        "# Get vocabulary size and items\n",
        "print(\"Vocabulary size:\", len(w2vmodel.wv.index_to_key))\n",
        "print(\"Vocabulary:\", w2vmodel.wv.index_to_key)\n"
      ]
    },
    {
      "cell_type": "markdown",
      "metadata": {
        "id": "aOMAX5x5dzjU"
      },
      "source": [
        "We play a bit around with our word embeddings, looking for similar words for example, or calculating the similarity between words. For example for 'sustainable', which is contained in our vocabulary, we receive similar words such as 'cliamteneutral' or 'lowcarbon'."
      ]
    },
    {
      "cell_type": "code",
      "execution_count": null,
      "metadata": {
        "id": "q_CMjnr3dzjU"
      },
      "outputs": [],
      "source": [
        "# Inspect most similar words\n",
        "w2vmodel.wv.most_similar('sustainable', topn=5)"
      ]
    },
    {
      "cell_type": "code",
      "execution_count": null,
      "metadata": {
        "id": "Nd3wY99udzjU"
      },
      "outputs": [],
      "source": [
        "# View similar words based on gensim's model\n",
        "similar_words = {\n",
        "    search_term:\n",
        "    [item[0] for item in w2vmodel.wv.most_similar([search_term], topn=5)]\n",
        "    for search_term in ['adidas', 'asset', 'supply', 'employee', 'emission', 'sap']\n",
        "}\n",
        "similar_words"
      ]
    },
    {
      "cell_type": "markdown",
      "metadata": {
        "id": "-bE7ruKkdzjV"
      },
      "source": [
        "We then visualize our word embeddings in a 2-dimensional space, using the T-SNE algorithm. It is interesting that we see health-related words like 'treatment', 'infection', 'drug' close to each other. We do not really see a cluster of words related to \"greenwashing\" topics, but some terms like 'carbon' or 'water' are closely clustered with terms like 'initiaive', 'order', 'goal', 'public' and 'government' . Other interesting clusters are 'topic', 'issue', and 'challenge', or 'bmw', 'porsche', and 'electric', pointing to the change to electric vehicles."
      ]
    },
    {
      "cell_type": "code",
      "execution_count": null,
      "metadata": {
        "id": "dDHEJFX1dzjV"
      },
      "outputs": [],
      "source": [
        "words = w2vmodel.wv.index_to_key[200:350]\n",
        "wvs = w2vmodel.wv[words]\n",
        "\n",
        "tsne = TSNE(n_components=2, random_state=0, n_iter=5000, perplexity=5)\n",
        "np.set_printoptions(suppress=True)\n",
        "T = tsne.fit_transform(wvs)\n",
        "labels = words\n",
        "\n",
        "fig, ax = plt.subplots(figsize=(18, 10))\n",
        "ax.scatter(T[:, 0], T[:, 1], c='lightgreen', edgecolors='g')\n",
        "for i, label in enumerate(labels):\n",
        "    ax.annotate(label, xy=(T[i, 0], T[i, 1]), xytext=(5, -5), textcoords='offset points')\n",
        "plt.show()\n"
      ]
    },
    {
      "cell_type": "markdown",
      "metadata": {
        "id": "FevYkG8OdzjV"
      },
      "source": [
        "### Sentiment analysis"
      ]
    },
    {
      "cell_type": "markdown",
      "metadata": {
        "id": "ZpNmDAIldzjW"
      },
      "source": [
        "Finally, we perform a sentiment analysis, that is we analyse the expressed emotions in our documents. For this, we use NLTK’s pretrained sentiment analyzer VADER (Valence Aware Dictionary and sEntiment Reasoner). We aggregate the sentiment scores of different documents into a single score with the compound parameter. This cell takes a while to execute in Google Colab. We can observe a clear gap in sentiment between internal and third-party documents in our corpus. Merck, Volkswage, Daimler and Allianz have the lowest sentiment in our external sources. However, sentiment is higher than 0 for all external sources, so still positive.\n",
        "\n",
        "Nevertheless, VADER seems to be specifically designed for text from social media, and less accurate when rating longer structured sentences (see for example https://realpython.com/python-nltk-sentiment-analysis), so we also compare with NLTK's TextBlob."
      ]
    },
    {
      "cell_type": "code",
      "execution_count": null,
      "metadata": {
        "id": "WYnLoiqJdzjW"
      },
      "outputs": [],
      "source": [
        "# Calculate the sentiment scores\n",
        "sia = SentimentIntensityAnalyzer()\n",
        "df['sentiment_score'] = df['token_string'].apply(lambda x: sia.polarity_scores(x)['compound'])\n",
        "\n",
        "# Plot the sentiment scores\n",
        "plt.figure(figsize=(12, 6))\n",
        "sns.barplot(x='company', y='sentiment_score', data=df, hue='internal', errorbar=None)\n",
        "plt.xticks(rotation=90)\n",
        "plt.title(\"Average Sentiment Scores per Company\")\n",
        "plt.show()"
      ]
    },
    {
      "cell_type": "markdown",
      "metadata": {
        "id": "b_rp8zHfdzjW"
      },
      "source": [
        "Using TextBlob's polarity value as the sentiment score, we see a different picture. This value also ranges from -1 to 1, from negative to positive,but we see that the sentiment expressed in internal documents by companies is less positive than with VADER and more aligned with sentiment in external sources."
      ]
    },
    {
      "cell_type": "code",
      "execution_count": null,
      "metadata": {
        "colab": {
          "base_uri": "https://localhost:8080/",
          "height": 699
        },
        "id": "DX630DsxdzjX",
        "outputId": "ba2474ca-b4fe-4909-e43c-876cf907bd4c"
      },
      "outputs": [
        {
          "data": {
            "image/png": "[encoded data removed]",
            "text/plain": [
              "<Figure size 1200x600 with 1 Axes>"
            ]
          },
          "metadata": {},
          "output_type": "display_data"
        }
      ],
      "source": [
        "# Define a function to calculate sentiment polarity using TextBlob\n",
        "def get_sentiment(text):\n",
        "    blob = TextBlob(text)\n",
        "    return blob.sentiment.polarity\n",
        "\n",
        "# Apply the sentiment analysis function to the 'content' column and store the results in a new column 'sentiment_score'\n",
        "df['sentiment_score'] = df['token_string'].apply(get_sentiment)\n",
        "\n",
        "# Plot the sentiment scores\n",
        "plt.figure(figsize=(12, 6))\n",
        "sns.barplot(x='company', y='sentiment_score', data=df, hue='internal', errorbar=None)\n",
        "plt.xticks(rotation=90)\n",
        "plt.title(\"Average Sentiment Scores per Company\")\n",
        "plt.show()"
      ]
    }
  ],
  "metadata": {
    "colab": {
      "machine_shape": "hm",
      "provenance": [],
      "include_colab_link": true
    },
    "gpuClass": "standard",
    "kernelspec": {
      "display_name": "myenv",
      "language": "python",
      "name": "python3"
    },
    "language_info": {
      "codemirror_mode": {
        "name": "ipython",
        "version": 3
      },
      "file_extension": ".py",
      "mimetype": "text/x-python",
      "name": "python",
      "nbconvert_exporter": "python",
      "pygments_lexer": "ipython3",
      "version": "3.10.8"
    }
  },
  "nbformat": 4,
  "nbformat_minor": 0
}